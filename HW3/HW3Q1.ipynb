{
 "cells": [
  {
   "cell_type": "markdown",
   "id": "5afad200",
   "metadata": {},
   "source": [
    "# Pushpit Jain\n",
    "\n",
    "# ASU ID - 1229623618"
   ]
  },
  {
   "cell_type": "code",
   "execution_count": 4,
   "id": "82c9cf2a-a99b-4a81-8745-d844002783fa",
   "metadata": {},
   "outputs": [],
   "source": [
    "import kmeans_Pushpit as km\n",
    "import numpy as np"
   ]
  },
  {
   "cell_type": "code",
   "execution_count": 5,
   "id": "fc6dc0d9-cfb4-4007-a683-0c9d10ff37c4",
   "metadata": {},
   "outputs": [],
   "source": [
    "data = km.loadCSV('kmeans_data/data.csv')\n",
    "labels = km.loadCSV('kmeans_data/label.csv')"
   ]
  },
  {
   "cell_type": "code",
   "execution_count": 6,
   "id": "666bc57b-7be4-428d-a8be-26cafbd2d1ed",
   "metadata": {},
   "outputs": [
    {
     "name": "stdout",
     "output_type": "stream",
     "text": [
      "10\n"
     ]
    }
   ],
   "source": [
    "# k = len(set([x[-1] for x in data]))\n",
    "k=10\n",
    "print(k)"
   ]
  },
  {
   "cell_type": "code",
   "execution_count": 7,
   "id": "942aaed6-544d-4dfb-a7b8-76a9b560a196",
   "metadata": {},
   "outputs": [],
   "source": [
    "clusterEuclidean = km.kmeans(data,k,dist_type='euclidean')\n",
    "clusterCosine = km.kmeans(data,k,dist_type='cosine')\n",
    "clusterJaccard = km.kmeans(data,k,dist_type='jaccard')"
   ]
  },
  {
   "cell_type": "code",
   "execution_count": 8,
   "id": "beb1da58-d0b3-48a7-8fe8-7cb9d869ddc7",
   "metadata": {},
   "outputs": [
    {
     "name": "stdout",
     "output_type": "stream",
     "text": [
      "Euclidean Cluster:  25317427181.800472\n",
      "Cosine Cluster:  2497.943087927041\n",
      "Jaccard Cluster:  9999.0\n"
     ]
    }
   ],
   "source": [
    "print('Euclidean Cluster: ', clusterEuclidean['withinss'])\n",
    "print('Cosine Cluster: ', clusterCosine['withinss'])\n",
    "print('Jaccard Cluster: ', clusterJaccard['withinss'])"
   ]
  },
  {
   "cell_type": "code",
   "execution_count": 11,
   "id": "69b91f7b-3f2d-4a9a-bd4b-31d4872dea08",
   "metadata": {},
   "outputs": [
    {
     "name": "stdout",
     "output_type": "stream",
     "text": [
      "Accuracy for K means Euclidean:  0.5942594259425943\n",
      "Accuracy for K means Cosine:  0.5978597859785979\n",
      "Accuracy for K means Jaccard:  0.11351135113511351\n"
     ]
    }
   ],
   "source": [
    "from tqdm import tqdm\n",
    "def label_clusters(clusters, labels, data):\n",
    "    listData = [list(instance) for instance in data]\n",
    "    labelsCluster = []\n",
    "    for cluster in clusters:\n",
    "        if not cluster:\n",
    "            continue\n",
    "        countsLabel = {}\n",
    "        for instance in cluster:\n",
    "            labelInstance = labels[listData.index(list(instance))]\n",
    "            countsLabel[labelInstance] = countsLabel.get(labelInstance, 0) + 1\n",
    "        mostFrequentLabel = max(countsLabel, key=countsLabel.get)\n",
    "        labelsCluster.append(mostFrequentLabel)\n",
    "    return labelsCluster\n",
    "\n",
    "def calAccuracy(clusters, labelsCluster, actual_labels, data):\n",
    "    correctAssignments = 0\n",
    "    totalAssignments = 0\n",
    "    listData = [list(instance) for instance in data]\n",
    "    for clusterIndex, cluster in enumerate(clusters):\n",
    "        for instance in cluster:\n",
    "            instance_index = listData.index(list(instance))\n",
    "            actual_label = actual_labels[instance_index]\n",
    "            predicted_label = labelsCluster[clusterIndex]\n",
    "            if actual_label == predicted_label:\n",
    "                correctAssignments += 1\n",
    "            totalAssignments += 1\n",
    "    accuracy = correctAssignments / totalAssignments if totalAssignments > 0 else 0\n",
    "    return accuracy\n",
    "\n",
    "listData = [list(instance) for instance in data]\n",
    "listLabels = [label[0] for label in labels]\n",
    "\n",
    "clusterEuclideanLabels = label_clusters(clusterEuclidean['clusters'], listLabels, data)\n",
    "accuracyEuclidean = calAccuracy(clusterEuclidean['clusters'], clusterEuclideanLabels, listLabels, data)\n",
    "\n",
    "clusterCosineLables = label_clusters(clusterCosine['clusters'], listLabels, data)\n",
    "accuracyCosine = calAccuracy(clusterCosine['clusters'], clusterCosineLables, listLabels, data)\n",
    "\n",
    "clusterJaccardLabels = label_clusters(clusterJaccard['clusters'], listLabels, data)\n",
    "accuracyJaccard = calAccuracy(clusterJaccard['clusters'], clusterJaccardLabels, listLabels, data)\n",
    "\n",
    "print('Accuracy for K means Euclidean: ', accuracyEuclidean)\n",
    "print('Accuracy for K means Cosine: ', accuracyCosine)\n",
    "print('Accuracy for K means Jaccard: ', accuracyJaccard)"
   ]
  },
  {
   "cell_type": "code",
   "execution_count": 20,
   "id": "115e22d9-3f85-413c-acc1-f7a541310664",
   "metadata": {},
   "outputs": [],
   "source": [
    "from time import time\n",
    "\n",
    "def conditionRun(condition, dataset,k):\n",
    "\n",
    "    startEuclidean = time()\n",
    "    clusterEuclidean = km.kmeans(dataset,k,dist_type='euclidean',condition=condition)\n",
    "    timeEuclidean = time() - startEuclidean\n",
    "    print(\"Cluster \\t Time \\t Iterations\")\n",
    "    print(\"Euclidean \\t {} \\t {}\".format(timeEuclidean, clusterEuclidean['iterations']))\n",
    "    \n",
    "    startCosine = time()\n",
    "    clusterCosine = km.kmeans(dataset,k,dist_type='cosine',condition=condition)\n",
    "    timeCosine = time() - startCosine\n",
    "\n",
    "    print(\"Cosine \\t\\t {} \\t {}\".format(timeCosine, clusterCosine['iterations']))\n",
    "\n",
    "    startJaccard = time()\n",
    "    clusterJaccard = km.kmeans(dataset,k,dist_type='jaccard',condition=condition)\n",
    "    timeJaccard = time() - startJaccard\n",
    "\n",
    "    print(\"Jaccard \\t {} \\t {}\".format(timeJaccard, clusterJaccard['iterations']))"
   ]
  },
  {
   "cell_type": "code",
   "execution_count": 9,
   "id": "31193e3a-f397-4180-bba5-e18d64c170e7",
   "metadata": {},
   "outputs": [
    {
     "name": "stdout",
     "output_type": "stream",
     "text": [
      "Cluster \t Time \t Iterations\n",
      "Euclidean \t 561.778177022934 \t 117\n",
      "Cosine \t\t 299.4399571418762 \t 59\n",
      "Jaccard \t 49.711716175079346 \t 22\n"
     ]
    }
   ],
   "source": [
    "conditionRun('centroid',data,k)"
   ]
  },
  {
   "cell_type": "code",
   "execution_count": 10,
   "id": "0c1f7003-0e66-4915-b456-1aaf5e9b5c28",
   "metadata": {},
   "outputs": [
    {
     "name": "stdout",
     "output_type": "stream",
     "text": [
      "Cluster \t Time \t Iterations\n",
      "Euclidean \t 302.0180113315582 \t 62\n",
      "Cosine \t\t 128.83276104927063 \t 25\n",
      "Jaccard \t 12.664803743362427 \t 3\n"
     ]
    }
   ],
   "source": [
    "conditionRun('sse',data,k)"
   ]
  },
  {
   "cell_type": "code",
   "execution_count": 14,
   "id": "13f783dc-0a4b-4066-8cb1-3360eef34f9a",
   "metadata": {},
   "outputs": [
    {
     "name": "stdout",
     "output_type": "stream",
     "text": [
      "Cluster \t Time \t Iterations\n",
      "Euclidean \t 483.74453806877136 \t 100\n",
      "Cosine \t\t 506.78321981430054 \t 100\n",
      "Jaccard \t 142.28545999526978 \t 100\n"
     ]
    }
   ],
   "source": [
    "conditionRun('iteration',data,k)"
   ]
  },
  {
   "cell_type": "code",
   "execution_count": 15,
   "id": "ea75868d-f194-4b83-a709-52a267fcfd15",
   "metadata": {},
   "outputs": [],
   "source": [
    "def sseConditionRun(condition, dataset,k):\n",
    "\n",
    "    clusterEuclidean = km.kmeans(dataset,k,dist_type='euclidean',condition=condition)\n",
    "\n",
    "    print(\"Euclidean : {}\".format(clusterEuclidean['withinss']))\n",
    "    \n",
    "    clusterCosine = km.kmeans(dataset,k,dist_type='cosine',condition=condition)\n",
    "\n",
    "    print(\"Cosine : {}\".format(clusterCosine['withinss']))\n",
    "\n",
    "    clusterJaccard = km.kmeans(dataset,k,dist_type='jaccard',condition=condition)\n",
    "\n",
    "    print(\"Jaccard : {}\".format(clusterJaccard['withinss']))"
   ]
  },
  {
   "cell_type": "code",
   "execution_count": 16,
   "id": "f7adbc71-b3f8-4b2a-bc13-f35794cc460a",
   "metadata": {},
   "outputs": [
    {
     "name": "stdout",
     "output_type": "stream",
     "text": [
      "Euclidean : 25322000736.29338\n",
      "Cosine : 2456.4941876881644\n",
      "Jaccard : 9999.0\n"
     ]
    }
   ],
   "source": [
    "sseConditionRun('centroid',data,k)"
   ]
  },
  {
   "cell_type": "code",
   "execution_count": 17,
   "id": "ef1d333b-6744-40e7-8b61-1096d19a1b16",
   "metadata": {},
   "outputs": [
    {
     "name": "stdout",
     "output_type": "stream",
     "text": [
      "Euclidean : 25483758022.359856\n",
      "Cosine : 2456.731456871235\n",
      "Jaccard : 9998.998091603053\n"
     ]
    }
   ],
   "source": [
    "sseConditionRun('sse',data,k)"
   ]
  },
  {
   "cell_type": "code",
   "execution_count": 18,
   "id": "69262fe8-254a-4409-a4d3-a9a90be59355",
   "metadata": {},
   "outputs": [
    {
     "name": "stdout",
     "output_type": "stream",
     "text": [
      "Euclidean : 25412698280.37702\n",
      "Cosine : 2456.0182782299294\n",
      "Jaccard : 9999.0\n"
     ]
    }
   ],
   "source": [
    "sseConditionRun('iteration',data,k)"
   ]
  },
  {
   "cell_type": "code",
   "execution_count": null,
   "id": "d8dcd5ff-c72e-4f62-b5d6-60c6e4f433c9",
   "metadata": {},
   "outputs": [],
   "source": []
  }
 ],
 "metadata": {
  "kernelspec": {
   "display_name": "Python 3 (ipykernel)",
   "language": "python",
   "name": "python3"
  },
  "language_info": {
   "codemirror_mode": {
    "name": "ipython",
    "version": 3
   },
   "file_extension": ".py",
   "mimetype": "text/x-python",
   "name": "python",
   "nbconvert_exporter": "python",
   "pygments_lexer": "ipython3",
   "version": "3.11.5"
  }
 },
 "nbformat": 4,
 "nbformat_minor": 5
}
